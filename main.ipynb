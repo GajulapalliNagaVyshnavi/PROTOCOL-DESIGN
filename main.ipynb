{
 "cells": [
  {
   "cell_type": "code",
   "execution_count": 40,
   "metadata": {},
   "outputs": [],
   "source": [
    "import pandas as pd\n",
    "import numpy as np\n",
    "from langchain.tools import BaseTool\n",
    "from pathlib import Path\n",
    "import os\n",
    "from dotenv import load_dotenv\n",
    "load_dotenv()\n",
    "from langchain.chat_models import ChatOpenAI\n",
    "from langchain.agents import initialize_agent, AgentType"
   ]
  },
  {
   "cell_type": "code",
   "execution_count": 9,
   "metadata": {},
   "outputs": [],
   "source": [
    "class protocoldesign(BaseTool):\n",
    "    name = \"protocoldesign\"\n",
    "    Description = f\"\"\"You are a clinical study designer, and you need to generate the introduction section of a clinical trial protocol based on information about the study and drug metadata.\"\"\""
   ]
  },
  {
   "cell_type": "code",
   "execution_count": 19,
   "metadata": {},
   "outputs": [],
   "source": [
    "def _run(self,filepath:str,query:str):\n",
    "    design = pd.read_excel(filepath)"
   ]
  },
  {
   "cell_type": "code",
   "execution_count": 21,
   "metadata": {},
   "outputs": [],
   "source": [
    "class ProtocolDesign(BaseTool):\n",
    "    name = \"ProtocolDesign\"\n",
    "    description = \"\"\"This tool is used to design and manage protocols.\"\"\"\n",
    "\n",
    "    def _run(self, input_data: str) -> str:\n",
    "        \"\"\"\n",
    "        Implement the core logic of the tool here.\n",
    "\n",
    "        Args:\n",
    "            input_data (str): Input data for designing protocols.\n",
    "\n",
    "        Returns:\n",
    "            str: Output result after processing.\n",
    "        \"\"\"\n",
    "        # Example logic: return the input data with some processing\n",
    "        result = f\"Protocol designed based on the following input: {input_data}\"\n",
    "        return result\n",
    "\n",
    "    async def _arun(self, input_data: str) -> str:\n",
    "        \"\"\"Asynchronous version of the run method.\"\"\"\n",
    "        # Implement the asynchronous version if needed\n",
    "        raise NotImplementedError(\"Async method is not implemented.\")\n"
   ]
  },
  {
   "cell_type": "code",
   "execution_count": 61,
   "metadata": {},
   "outputs": [
    {
     "data": {
      "text/plain": [
       "'sk-proj-Jzb3tw8miOyGjv64shHxT3BlbkFJGRXVvbt8r0ejR7YBAwwX'"
      ]
     },
     "execution_count": 61,
     "metadata": {},
     "output_type": "execute_result"
    }
   ],
   "source": [
    "\n",
    "api_key = os.getenv(\"API_KEY\")\n",
    "os.environ[\"OPENAI_API_KEY\"] "
   ]
  },
  {
   "cell_type": "code",
   "execution_count": 80,
   "metadata": {},
   "outputs": [],
   "source": [
    "from langchain.tools import BaseTool\n",
    "from langchain_community.chat_models import ChatOpenAI\n",
    "from langchain.agents import initialize_agent, AgentType\n",
    "from langchain.callbacks.streaming_stdout import StreamingStdOutCallbackHandler\n",
    "\n",
    "class ProtocolDesign(BaseTool):\n",
    "    name = \"ProtocolDesign\"\n",
    "    description = f\"\"\"You are a clinical study designer, and you need to generate the introduction section of a clinical trial\n",
    "protocol based on information about the study and drug metadata.\"\"\"\n",
    "\n",
    "    def _run(self, input_data: str) -> str:\n",
    "        data = pd.read_csv(input_data)\n",
    "        result =f\"\"\"You are a clinical study designer, and you need to generate the introduction section of a clinical trial\n",
    "protocol based on information about the study and drug metadata on {input_data}. Follow the same format and\n",
    "writing style as the example below:\n",
    "- - - - - Example 1 - - - - -\n",
    "Metadata Input:\n",
    "*** Study and Drug Metadata corresponding to Example 1 provided ***\n",
    "Corresponding Introduction Section:\n",
    "*** Corresponding Introduction section of the protocol in Example 1 is provided ***\n",
    "- - - - - Example 2 - - - - -\n",
    "Metadata Input:\n",
    "*** Study and Drug Metadata corresponding to Example 2 provided ***\n",
    "Corresponding Introduction Section:\n",
    "*** Corresponding Introduction section of the protocol in Example 2 is provided ***\n",
    "- - - - - Prediction - - - - -\n",
    "Metadata Input:\n",
    "*** Study and Drug Metadata for prediction is provided ***\n",
    "Now Begin!\n",
    "Generate the introduction section:\"\"\"\n",
    "        return result\n",
    "\n",
    "\n",
    "    async def _arun(self, input_data: str) -> str:\n",
    "        raise NotImplementedError()\n",
    "\n",
    "# Instantiate the tool\n",
    "tools = [ProtocolDesign()]\n",
    "callbacks = [StreamingStdOutCallbackHandler()]\n",
    "llm = ChatOpenAI(temperature=0.1, model_name=\"gpt-4o-mini\", callbacks=callbacks)\n",
    "\n",
    "# Initialize the LLM with the correct model name\n",
    "agent = initialize_agent(\n",
    "    tools=tools,\n",
    "    llm=llm,\n",
    "    agent=AgentType.STRUCTURED_CHAT_ZERO_SHOT_REACT_DESCRIPTION,\n",
    "    verbose=True\n",
    ")\n",
    "\n",
    "\n",
    "#\n",
    "\n"
   ]
  },
  {
   "cell_type": "code",
   "execution_count": 81,
   "metadata": {},
   "outputs": [
    {
     "name": "stdout",
     "output_type": "stream",
     "text": [
      "\n",
      "\n",
      "\u001b[1m> Entering new AgentExecutor chain...\u001b[0m\n",
      "\u001b[32;1m\u001b[1;3mThought: I need to extract the necessary information from the provided file path to design a clinical trial protocol. However, I currently do not have the capability to access files directly. Instead, I can generate a protocol introduction if you provide me with the relevant details about the study and drug metadata.\n",
      "\n",
      "Action:\n",
      "```\n",
      "{\n",
      "  \"action\": \"Final Answer\",\n",
      "  \"action_input\": \"Please provide the relevant details about the study and drug metadata from the file so I can help design the protocol.\"\n",
      "}\n",
      "```\n",
      "\u001b[0m\n",
      "\n",
      "\u001b[1m> Finished chain.\u001b[0m\n"
     ]
    },
    {
     "data": {
      "text/plain": [
       "'Please provide the relevant details about the study and drug metadata from the file so I can help design the protocol.'"
      ]
     },
     "execution_count": 81,
     "metadata": {},
     "output_type": "execute_result"
    }
   ],
   "source": [
    "input_data = f\"Users/VAISHNAVI/Documents/protocoldesign/metadata_clinbolt.csv\"\n",
    "agent.run(f\"Design a protocol on the file'{input_data}\")"
   ]
  }
 ],
 "metadata": {
  "kernelspec": {
   "display_name": "env_PD",
   "language": "python",
   "name": "python3"
  },
  "language_info": {
   "codemirror_mode": {
    "name": "ipython",
    "version": 3
   },
   "file_extension": ".py",
   "mimetype": "text/x-python",
   "name": "python",
   "nbconvert_exporter": "python",
   "pygments_lexer": "ipython3",
   "version": "3.12.1"
  }
 },
 "nbformat": 4,
 "nbformat_minor": 2
}
